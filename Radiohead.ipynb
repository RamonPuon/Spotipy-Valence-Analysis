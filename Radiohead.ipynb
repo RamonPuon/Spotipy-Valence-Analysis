{
 "cells": [
  {
   "cell_type": "code",
   "execution_count": 1,
   "metadata": {},
   "outputs": [],
   "source": [
    "from matplotlib import pyplot as plt\n",
    "import numpy as np\n",
    "import pandas as pd\n",
    "import seaborn as sns\n"
   ]
  },
  {
   "cell_type": "markdown",
   "metadata": {},
   "source": [
    "We start by extracting the tracks from the Spotify API using our previous scripts. I previously created an csv with the resulting data frame using the pandas library."
   ]
  },
  {
   "cell_type": "code",
   "execution_count": 5,
   "metadata": {},
   "outputs": [
    {
     "data": {
      "text/html": [
       "<div>\n",
       "<style scoped>\n",
       "    .dataframe tbody tr th:only-of-type {\n",
       "        vertical-align: middle;\n",
       "    }\n",
       "\n",
       "    .dataframe tbody tr th {\n",
       "        vertical-align: top;\n",
       "    }\n",
       "\n",
       "    .dataframe thead th {\n",
       "        text-align: right;\n",
       "    }\n",
       "</style>\n",
       "<table border=\"1\" class=\"dataframe\">\n",
       "  <thead>\n",
       "    <tr style=\"text-align: right;\">\n",
       "      <th></th>\n",
       "      <th>Unnamed: 0</th>\n",
       "      <th>artist</th>\n",
       "      <th>album_name</th>\n",
       "      <th>album_uri</th>\n",
       "      <th>track</th>\n",
       "      <th>release_date</th>\n",
       "      <th>danceability</th>\n",
       "      <th>energy</th>\n",
       "      <th>key</th>\n",
       "      <th>loudness</th>\n",
       "      <th>...</th>\n",
       "      <th>liveness</th>\n",
       "      <th>valence</th>\n",
       "      <th>tempo</th>\n",
       "      <th>type</th>\n",
       "      <th>id</th>\n",
       "      <th>song_uri</th>\n",
       "      <th>track_href</th>\n",
       "      <th>analysis_url</th>\n",
       "      <th>duration_ms</th>\n",
       "      <th>time_signature</th>\n",
       "    </tr>\n",
       "  </thead>\n",
       "  <tbody>\n",
       "    <tr>\n",
       "      <th>0</th>\n",
       "      <td>0</td>\n",
       "      <td>Radiohead</td>\n",
       "      <td>KID A MNESIA</td>\n",
       "      <td>spotify:album:6ofEQubaL265rIW6WnCU8y</td>\n",
       "      <td>Everything In Its Right Place</td>\n",
       "      <td>2021-11-05</td>\n",
       "      <td>0.296</td>\n",
       "      <td>0.463</td>\n",
       "      <td>5</td>\n",
       "      <td>-11.412</td>\n",
       "      <td>...</td>\n",
       "      <td>0.0954</td>\n",
       "      <td>0.0629</td>\n",
       "      <td>123.943</td>\n",
       "      <td>audio_features</td>\n",
       "      <td>62dUmjtkYOUwYOALt6pefh</td>\n",
       "      <td>spotify:track:62dUmjtkYOUwYOALt6pefh</td>\n",
       "      <td>https://api.spotify.com/v1/tracks/62dUmjtkYOUw...</td>\n",
       "      <td>https://api.spotify.com/v1/audio-analysis/62dU...</td>\n",
       "      <td>251427</td>\n",
       "      <td>5</td>\n",
       "    </tr>\n",
       "    <tr>\n",
       "      <th>1</th>\n",
       "      <td>1</td>\n",
       "      <td>Radiohead</td>\n",
       "      <td>KID A MNESIA</td>\n",
       "      <td>spotify:album:6ofEQubaL265rIW6WnCU8y</td>\n",
       "      <td>Kid A</td>\n",
       "      <td>2021-11-05</td>\n",
       "      <td>0.630</td>\n",
       "      <td>0.428</td>\n",
       "      <td>5</td>\n",
       "      <td>-15.520</td>\n",
       "      <td>...</td>\n",
       "      <td>0.2780</td>\n",
       "      <td>0.1590</td>\n",
       "      <td>112.923</td>\n",
       "      <td>audio_features</td>\n",
       "      <td>797AyTQcqoQgqWQ1Qz184Y</td>\n",
       "      <td>spotify:track:797AyTQcqoQgqWQ1Qz184Y</td>\n",
       "      <td>https://api.spotify.com/v1/tracks/797AyTQcqoQg...</td>\n",
       "      <td>https://api.spotify.com/v1/audio-analysis/797A...</td>\n",
       "      <td>284507</td>\n",
       "      <td>4</td>\n",
       "    </tr>\n",
       "    <tr>\n",
       "      <th>2</th>\n",
       "      <td>2</td>\n",
       "      <td>Radiohead</td>\n",
       "      <td>KID A MNESIA</td>\n",
       "      <td>spotify:album:6ofEQubaL265rIW6WnCU8y</td>\n",
       "      <td>The National Anthem</td>\n",
       "      <td>2021-11-05</td>\n",
       "      <td>0.488</td>\n",
       "      <td>0.754</td>\n",
       "      <td>2</td>\n",
       "      <td>-8.552</td>\n",
       "      <td>...</td>\n",
       "      <td>0.2240</td>\n",
       "      <td>0.3880</td>\n",
       "      <td>91.517</td>\n",
       "      <td>audio_features</td>\n",
       "      <td>02FcgoInOjsdFT8YdAUMwu</td>\n",
       "      <td>spotify:track:02FcgoInOjsdFT8YdAUMwu</td>\n",
       "      <td>https://api.spotify.com/v1/tracks/02FcgoInOjsd...</td>\n",
       "      <td>https://api.spotify.com/v1/audio-analysis/02Fc...</td>\n",
       "      <td>351693</td>\n",
       "      <td>4</td>\n",
       "    </tr>\n",
       "    <tr>\n",
       "      <th>3</th>\n",
       "      <td>3</td>\n",
       "      <td>Radiohead</td>\n",
       "      <td>KID A MNESIA</td>\n",
       "      <td>spotify:album:6ofEQubaL265rIW6WnCU8y</td>\n",
       "      <td>How to Disappear Completely</td>\n",
       "      <td>2021-11-05</td>\n",
       "      <td>0.167</td>\n",
       "      <td>0.302</td>\n",
       "      <td>6</td>\n",
       "      <td>-11.644</td>\n",
       "      <td>...</td>\n",
       "      <td>0.1100</td>\n",
       "      <td>0.1900</td>\n",
       "      <td>102.026</td>\n",
       "      <td>audio_features</td>\n",
       "      <td>7hFmiFUYmIjELj5d0UjbVh</td>\n",
       "      <td>spotify:track:7hFmiFUYmIjELj5d0UjbVh</td>\n",
       "      <td>https://api.spotify.com/v1/tracks/7hFmiFUYmIjE...</td>\n",
       "      <td>https://api.spotify.com/v1/audio-analysis/7hFm...</td>\n",
       "      <td>356333</td>\n",
       "      <td>4</td>\n",
       "    </tr>\n",
       "    <tr>\n",
       "      <th>4</th>\n",
       "      <td>4</td>\n",
       "      <td>Radiohead</td>\n",
       "      <td>KID A MNESIA</td>\n",
       "      <td>spotify:album:6ofEQubaL265rIW6WnCU8y</td>\n",
       "      <td>Treefingers</td>\n",
       "      <td>2021-11-05</td>\n",
       "      <td>0.165</td>\n",
       "      <td>0.146</td>\n",
       "      <td>6</td>\n",
       "      <td>-21.357</td>\n",
       "      <td>...</td>\n",
       "      <td>0.1090</td>\n",
       "      <td>0.0577</td>\n",
       "      <td>134.508</td>\n",
       "      <td>audio_features</td>\n",
       "      <td>0XGxvQj8dRhGn41nvXIxN0</td>\n",
       "      <td>spotify:track:0XGxvQj8dRhGn41nvXIxN0</td>\n",
       "      <td>https://api.spotify.com/v1/tracks/0XGxvQj8dRhG...</td>\n",
       "      <td>https://api.spotify.com/v1/audio-analysis/0XGx...</td>\n",
       "      <td>222600</td>\n",
       "      <td>3</td>\n",
       "    </tr>\n",
       "  </tbody>\n",
       "</table>\n",
       "<p>5 rows × 24 columns</p>\n",
       "</div>"
      ],
      "text/plain": [
       "   Unnamed: 0     artist    album_name                             album_uri  \\\n",
       "0           0  Radiohead  KID A MNESIA  spotify:album:6ofEQubaL265rIW6WnCU8y   \n",
       "1           1  Radiohead  KID A MNESIA  spotify:album:6ofEQubaL265rIW6WnCU8y   \n",
       "2           2  Radiohead  KID A MNESIA  spotify:album:6ofEQubaL265rIW6WnCU8y   \n",
       "3           3  Radiohead  KID A MNESIA  spotify:album:6ofEQubaL265rIW6WnCU8y   \n",
       "4           4  Radiohead  KID A MNESIA  spotify:album:6ofEQubaL265rIW6WnCU8y   \n",
       "\n",
       "                           track release_date  danceability  energy  key  \\\n",
       "0  Everything In Its Right Place   2021-11-05         0.296   0.463    5   \n",
       "1                          Kid A   2021-11-05         0.630   0.428    5   \n",
       "2            The National Anthem   2021-11-05         0.488   0.754    2   \n",
       "3    How to Disappear Completely   2021-11-05         0.167   0.302    6   \n",
       "4                    Treefingers   2021-11-05         0.165   0.146    6   \n",
       "\n",
       "   loudness  ...  liveness  valence    tempo            type  \\\n",
       "0   -11.412  ...    0.0954   0.0629  123.943  audio_features   \n",
       "1   -15.520  ...    0.2780   0.1590  112.923  audio_features   \n",
       "2    -8.552  ...    0.2240   0.3880   91.517  audio_features   \n",
       "3   -11.644  ...    0.1100   0.1900  102.026  audio_features   \n",
       "4   -21.357  ...    0.1090   0.0577  134.508  audio_features   \n",
       "\n",
       "                       id                              song_uri  \\\n",
       "0  62dUmjtkYOUwYOALt6pefh  spotify:track:62dUmjtkYOUwYOALt6pefh   \n",
       "1  797AyTQcqoQgqWQ1Qz184Y  spotify:track:797AyTQcqoQgqWQ1Qz184Y   \n",
       "2  02FcgoInOjsdFT8YdAUMwu  spotify:track:02FcgoInOjsdFT8YdAUMwu   \n",
       "3  7hFmiFUYmIjELj5d0UjbVh  spotify:track:7hFmiFUYmIjELj5d0UjbVh   \n",
       "4  0XGxvQj8dRhGn41nvXIxN0  spotify:track:0XGxvQj8dRhGn41nvXIxN0   \n",
       "\n",
       "                                          track_href  \\\n",
       "0  https://api.spotify.com/v1/tracks/62dUmjtkYOUw...   \n",
       "1  https://api.spotify.com/v1/tracks/797AyTQcqoQg...   \n",
       "2  https://api.spotify.com/v1/tracks/02FcgoInOjsd...   \n",
       "3  https://api.spotify.com/v1/tracks/7hFmiFUYmIjE...   \n",
       "4  https://api.spotify.com/v1/tracks/0XGxvQj8dRhG...   \n",
       "\n",
       "                                        analysis_url duration_ms  \\\n",
       "0  https://api.spotify.com/v1/audio-analysis/62dU...      251427   \n",
       "1  https://api.spotify.com/v1/audio-analysis/797A...      284507   \n",
       "2  https://api.spotify.com/v1/audio-analysis/02Fc...      351693   \n",
       "3  https://api.spotify.com/v1/audio-analysis/7hFm...      356333   \n",
       "4  https://api.spotify.com/v1/audio-analysis/0XGx...      222600   \n",
       "\n",
       "  time_signature  \n",
       "0              5  \n",
       "1              4  \n",
       "2              4  \n",
       "3              4  \n",
       "4              3  \n",
       "\n",
       "[5 rows x 24 columns]"
      ]
     },
     "execution_count": 5,
     "metadata": {},
     "output_type": "execute_result"
    }
   ],
   "source": [
    "df = pd.read_csv('Radiohead.csv')\n",
    "df.head()"
   ]
  },
  {
   "cell_type": "markdown",
   "metadata": {},
   "source": [
    "From the beginning we can see that the get_tracks script also extracts the special editions of radiohead albums (Kid A mnesia was recently released as a compilation). For this analysis we only need the \"original\" canonical releases. We will use pandas to filter out this special edition albums"
   ]
  },
  {
   "cell_type": "code",
   "execution_count": 6,
   "metadata": {},
   "outputs": [],
   "source": [
    "#This is a list with the names of the albums we don't want\n",
    "special_albums= ['KID A MNESIA', 'OK Computer OKNOTOK 1997 2017', 'TKOL RMX 1234567', 'In Rainbows (Disk 2)','I Might Be Wrong']"
   ]
  },
  {
   "cell_type": "code",
   "execution_count": 7,
   "metadata": {},
   "outputs": [
    {
     "data": {
      "text/plain": [
       "array(['A Moon Shaped Pool', 'The King Of Limbs', 'In Rainbows',\n",
       "       'Hail To the Thief', 'Amnesiac', 'Kid A', 'OK Computer',\n",
       "       'The Bends', 'Pablo Honey'], dtype=object)"
      ]
     },
     "execution_count": 7,
     "metadata": {},
     "output_type": "execute_result"
    }
   ],
   "source": [
    "df = df[~df['album_name'].isin(special_albums)]\n",
    "df['album_name'].unique()"
   ]
  },
  {
   "cell_type": "markdown",
   "metadata": {},
   "source": [
    "Now having the album we can look at the feature called valence. Spotify is not very clear about these audio features, but according to their documentation valence is a numerical value that meassures how 'sad' a song is. Valence can be a number between 0 and 1, being 1 the saddest a song can be."
   ]
  },
  {
   "cell_type": "code",
   "execution_count": 8,
   "metadata": {},
   "outputs": [
    {
     "data": {
      "text/html": [
       "<div>\n",
       "<style scoped>\n",
       "    .dataframe tbody tr th:only-of-type {\n",
       "        vertical-align: middle;\n",
       "    }\n",
       "\n",
       "    .dataframe tbody tr th {\n",
       "        vertical-align: top;\n",
       "    }\n",
       "\n",
       "    .dataframe thead th {\n",
       "        text-align: right;\n",
       "    }\n",
       "</style>\n",
       "<table border=\"1\" class=\"dataframe\">\n",
       "  <thead>\n",
       "    <tr style=\"text-align: right;\">\n",
       "      <th></th>\n",
       "      <th>valence</th>\n",
       "    </tr>\n",
       "    <tr>\n",
       "      <th>album_name</th>\n",
       "      <th></th>\n",
       "    </tr>\n",
       "  </thead>\n",
       "  <tbody>\n",
       "    <tr>\n",
       "      <th>A Moon Shaped Pool</th>\n",
       "      <td>0.203018</td>\n",
       "    </tr>\n",
       "    <tr>\n",
       "      <th>Amnesiac</th>\n",
       "      <td>0.207945</td>\n",
       "    </tr>\n",
       "    <tr>\n",
       "      <th>Kid A</th>\n",
       "      <td>0.270564</td>\n",
       "    </tr>\n",
       "    <tr>\n",
       "      <th>OK Computer</th>\n",
       "      <td>0.291733</td>\n",
       "    </tr>\n",
       "    <tr>\n",
       "      <th>Pablo Honey</th>\n",
       "      <td>0.322000</td>\n",
       "    </tr>\n",
       "    <tr>\n",
       "      <th>The Bends</th>\n",
       "      <td>0.338800</td>\n",
       "    </tr>\n",
       "    <tr>\n",
       "      <th>In Rainbows</th>\n",
       "      <td>0.396730</td>\n",
       "    </tr>\n",
       "    <tr>\n",
       "      <th>Hail To the Thief</th>\n",
       "      <td>0.399529</td>\n",
       "    </tr>\n",
       "    <tr>\n",
       "      <th>The King Of Limbs</th>\n",
       "      <td>0.443550</td>\n",
       "    </tr>\n",
       "  </tbody>\n",
       "</table>\n",
       "</div>"
      ],
      "text/plain": [
       "                     valence\n",
       "album_name                  \n",
       "A Moon Shaped Pool  0.203018\n",
       "Amnesiac            0.207945\n",
       "Kid A               0.270564\n",
       "OK Computer         0.291733\n",
       "Pablo Honey         0.322000\n",
       "The Bends           0.338800\n",
       "In Rainbows         0.396730\n",
       "Hail To the Thief   0.399529\n",
       "The King Of Limbs   0.443550"
      ]
     },
     "execution_count": 8,
     "metadata": {},
     "output_type": "execute_result"
    }
   ],
   "source": [
    "df.groupby('album_name').agg({'valence':np.mean}).sort_values(by='valence')"
   ]
  },
  {
   "cell_type": "markdown",
   "metadata": {},
   "source": [
    "With this quick analysis we can see that radiohead is a pretty gloomy band, with each album having an average valence of lower than 0.45. This won't be surprising to longtime fans. "
   ]
  },
  {
   "cell_type": "markdown",
   "metadata": {},
   "source": [
    "We can also visualize how each song in every albums has a unique valence, with the help seaborn and its catplot we can analyze categorical variables such as 'Album name'"
   ]
  },
  {
   "cell_type": "code",
   "execution_count": 9,
   "metadata": {},
   "outputs": [
    {
     "data": {
      "text/plain": [
       "Text(0.5, 8.95999999999998, 'Valence')"
      ]
     },
     "execution_count": 9,
     "metadata": {},
     "output_type": "execute_result"
    },
    {
     "data": {
      "image/png": "[encoded data removed]",
      "text/plain": [
       "<Figure size 360x360 with 1 Axes>"
      ]
     },
     "metadata": {},
     "output_type": "display_data"
    }
   ],
   "source": [
    "\n",
    "sns.set_theme(style='whitegrid')\n",
    "sns.catplot(data=df, y='album_name', x='valence')\n",
    "plt.title('Valence through Albums')\n",
    "plt.ylabel('')\n",
    "plt.xlabel('Valence')"
   ]
  },
  {
   "cell_type": "markdown",
   "metadata": {},
   "source": [
    "Using a Boxplot, we can see how consistently sad can be every album"
   ]
  },
  {
   "cell_type": "code",
   "execution_count": 10,
   "metadata": {},
   "outputs": [
    {
     "data": {
      "text/plain": [
       "Text(0.5, 0, 'Valence')"
      ]
     },
     "execution_count": 10,
     "metadata": {},
     "output_type": "execute_result"
    },
    {
     "data": {
      "image/png": "[encoded data removed]",
      "text/plain": [
       "<Figure size 432x288 with 1 Axes>"
      ]
     },
     "metadata": {},
     "output_type": "display_data"
    }
   ],
   "source": [
    "\n",
    "sns.set_theme(style='whitegrid')\n",
    "axis = sns.boxplot(data= df, y= 'album_name', x='valence')\n",
    "axis_2 = sns.swarmplot(data= df, y= 'album_name', x='valence', color='.25')\n",
    "plt.title('Valence through Albums')\n",
    "plt.ylabel('')\n",
    "plt.xlabel('Valence')"
   ]
  },
  {
   "cell_type": "code",
   "execution_count": null,
   "metadata": {},
   "outputs": [],
   "source": []
  }
 ],
 "metadata": {
  "interpreter": {
   "hash": "aacc91805ebf3663982f639e7f9163cd8b6d71987a5a12d6ee5be182274c1ec6"
  },
  "kernelspec": {
   "display_name": "Python 3.9.5 64-bit ('venv': venv)",
   "language": "python",
   "name": "python3"
  },
  "language_info": {
   "codemirror_mode": {
    "name": "ipython",
    "version": 3
   },
   "file_extension": ".py",
   "mimetype": "text/x-python",
   "name": "python",
   "nbconvert_exporter": "python",
   "pygments_lexer": "ipython3",
   "version": "3.9.5"
  },
  "orig_nbformat": 4
 },
 "nbformat": 4,
 "nbformat_minor": 2
}
